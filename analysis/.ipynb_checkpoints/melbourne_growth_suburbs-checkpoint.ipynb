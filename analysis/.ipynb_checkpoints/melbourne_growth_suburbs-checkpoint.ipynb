{
 "cells": [
  {
   "cell_type": "markdown",
   "metadata": {},
   "source": [
    "# Identify Growth Suburbs in Melbourne\n",
    "\n",
    "Author: Yassin Eltahir    \n",
    "Date: 2017-06-13"
   ]
  },
  {
   "cell_type": "code",
   "execution_count": 17,
   "metadata": {},
   "outputs": [
    {
     "name": "stderr",
     "output_type": "stream",
     "text": [
      "IOPub data rate exceeded.\n",
      "The notebook server will temporarily stop sending output\n",
      "to the client in order to avoid crashing it.\n",
      "To change this limit, set the config variable\n",
      "`--NotebookApp.iopub_data_rate_limit`.\n"
     ]
    }
   ],
   "source": [
    "# Required Libraries\n",
    "import pandas as pd\n",
    "import numpy as np\n",
    "import googlemaps\n",
    "from sqlalchemy import create_engine\n",
    "import yaml\n",
    "from tqdm import tqdm\n",
    "import plotly.graph_objs as go\n",
    "from plotly import tools\n",
    "from plotly.offline import download_plotlyjs, init_notebook_mode, plot, iplot\n",
    "import matplotlib.pyplot as plt\n",
    "\n",
    "\n",
    "#\n",
    "init_notebook_mode()\n",
    "\n",
    "# Source Config\n",
    "conf = yaml.load(open('../conf.yaml','r'))\n",
    "google_key = conf['google']['key']\n",
    "\n",
    "\n",
    "# # Connect to DB\n",
    "dbName = conf['db']['dbname']\n",
    "user = conf['db']['username']\n",
    "pwrd = conf['db']['password']\n",
    "host = conf['db']['server']\n",
    "port = conf['db']['port']\n",
    "engine = create_engine('postgresql://{}:{}@{}:{}/{}'.format(user, pwrd, host, port, dbName))"
   ]
  },
  {
   "cell_type": "code",
   "execution_count": 3,
   "metadata": {},
   "outputs": [],
   "source": [
    "# Source average price by property type for all melbourne records by month\n",
    "qry_str = \"\"\"\n",
    "\n",
    "    SELECT price, date_trunc('month',date) as sale_month, prop_type\n",
    "    FROM real_estate.auction_results\n",
    "    WHERE city = 'melbourne'\n",
    "      and result in ('S','SP','SA')\n",
    "\n",
    "\"\"\"\n",
    "\n",
    "melb_prices = pd.read_sql(qry_str, con = engine)\n",
    "\n",
    "# Calculate Mean & Median for each month \n",
    "melb_price_agg = melb_prices.groupby(['sale_month','prop_type'])['price'].agg({'median_price':np.median, 'mean_price':np.mean, 'num_sales':len})\n",
    "melb_price_agg.reset_index(inplace=True)\n",
    "\n",
    "# Convert Month field to datetime\n",
    "melb_price_agg['sale_month'] = pd.to_datetime(melb_price_agg.sale_month, utc = True)"
   ]
  },
  {
   "cell_type": "markdown",
   "metadata": {},
   "source": [
    "## View Median Price by property type"
   ]
  },
  {
   "cell_type": "code",
   "execution_count": 16,
   "metadata": {},
   "outputs": [
    {
     "data": {
      "application/vnd.plotly.v1+json": {
       "data": [
        [
         "y",
         "x",
         "type",
         "name"
        ],
        [
         "y",
         "x",
         "type",
         "name"
        ],
        [
         "y",
         "x",
         "type",
         "name"
        ],
        [
         "y",
         "x",
         "type",
         "name"
        ]
       ],
       "layout": [
        "title",
        "xaxis",
        "yaxis"
       ]
      },
      "text/plain": [
       "<jupyterlab_plotly.Plotly object>"
      ]
     },
     "metadata": {
      "application/vnd.plotly.v1+json": null
     },
     "output_type": "display_data"
    }
   ],
   "source": [
    "# Plot Data\n",
    "data = [go.Scatter(x = melb_price_agg[melb_price_agg.prop_type==prop_type].sale_month,\n",
    "                   y=melb_price_agg[melb_price_agg.prop_type==prop_type].median_price,\n",
    "                   name=prop_type\n",
    "               ) for prop_type in melb_price_agg.prop_type.unique()]\n",
    "\n",
    "# Plot Nicities\n",
    "layout = go.Layout(\n",
    "    title= 'Melbourne - Monthly Median Sale Price by Property Type',\n",
    "    yaxis=dict(title='Median Price ($)'),\n",
    "    xaxis=dict(title='Date')\n",
    "    )\n",
    "    \n",
    "# Combine Plot & Formatting\n",
    "fig = go.Figure(data=data, layout=layout)\n",
    "\n",
    "# Generate Plot\n",
    "# plot(fig, filename='test')\n",
    "# iplot(fig)\n",
    "\n",
    "from jupyterlab_plotly import Plotly\n",
    "from IPython import display\n",
    "\n",
    "Plotly(data, layout)"
   ]
  },
  {
   "cell_type": "code",
   "execution_count": 22,
   "metadata": {},
   "outputs": [
    {
     "data": {
      "text/plain": [
       "[<matplotlib.text.Text at 0x112653790>,\n",
       " <matplotlib.text.Text at 0x11264dc50>,\n",
       " <matplotlib.text.Text at 0x112671890>]"
      ]
     },
     "execution_count": 22,
     "metadata": {},
     "output_type": "execute_result"
    },
    {
     "data": {
      "image/png": "[encoded data removed]",
      "text/plain": [
       "<matplotlib.figure.Figure at 0x1166dbed0>"
      ]
     },
     "metadata": {},
     "output_type": "display_data"
    }
   ],
   "source": [
    "import seaborn as sns\n",
    "\n",
    "%matplotlib inline\n",
    "\n",
    "g = sns.tsplot(melb_price_agg,\n",
    "               time = 'sale_month',\n",
    "               value = 'median_price',\n",
    "               unit = 'prop_type')\n",
    "\n",
    "g.set(xlabel='Date',\n",
    "         ylabel='Median Price ($)',\n",
    "         title='Melbourne - Monthly Median Sale Price by Property Type')"
   ]
  },
  {
   "cell_type": "code",
   "execution_count": 15,
   "metadata": {},
   "outputs": [
    {
     "data": {
      "text/html": [
       "<div>\n",
       "<table border=\"1\" class=\"dataframe\">\n",
       "  <thead>\n",
       "    <tr style=\"text-align: right;\">\n",
       "      <th></th>\n",
       "      <th>sale_month</th>\n",
       "      <th>prop_type</th>\n",
       "      <th>median_price</th>\n",
       "      <th>mean_price</th>\n",
       "      <th>num_sales</th>\n",
       "    </tr>\n",
       "  </thead>\n",
       "  <tbody>\n",
       "    <tr>\n",
       "      <th>0</th>\n",
       "      <td>2015-04-30 14:00:00</td>\n",
       "      <td>h</td>\n",
       "      <td>931000.0</td>\n",
       "      <td>1.098764e+06</td>\n",
       "      <td>495.0</td>\n",
       "    </tr>\n",
       "    <tr>\n",
       "      <th>1</th>\n",
       "      <td>2015-04-30 14:00:00</td>\n",
       "      <td>t</td>\n",
       "      <td>724000.0</td>\n",
       "      <td>7.331852e+05</td>\n",
       "      <td>60.0</td>\n",
       "    </tr>\n",
       "    <tr>\n",
       "      <th>2</th>\n",
       "      <td>2015-04-30 14:00:00</td>\n",
       "      <td>u</td>\n",
       "      <td>543000.0</td>\n",
       "      <td>5.831875e+05</td>\n",
       "      <td>144.0</td>\n",
       "    </tr>\n",
       "    <tr>\n",
       "      <th>3</th>\n",
       "      <td>2015-05-31 14:00:00</td>\n",
       "      <td>h</td>\n",
       "      <td>900500.0</td>\n",
       "      <td>1.049874e+06</td>\n",
       "      <td>1136.0</td>\n",
       "    </tr>\n",
       "    <tr>\n",
       "      <th>4</th>\n",
       "      <td>2015-05-31 14:00:00</td>\n",
       "      <td>t</td>\n",
       "      <td>750000.0</td>\n",
       "      <td>7.909047e+05</td>\n",
       "      <td>174.0</td>\n",
       "    </tr>\n",
       "  </tbody>\n",
       "</table>\n",
       "</div>"
      ],
      "text/plain": [
       "           sale_month prop_type  median_price    mean_price  num_sales\n",
       "0 2015-04-30 14:00:00         h      931000.0  1.098764e+06      495.0\n",
       "1 2015-04-30 14:00:00         t      724000.0  7.331852e+05       60.0\n",
       "2 2015-04-30 14:00:00         u      543000.0  5.831875e+05      144.0\n",
       "3 2015-05-31 14:00:00         h      900500.0  1.049874e+06     1136.0\n",
       "4 2015-05-31 14:00:00         t      750000.0  7.909047e+05      174.0"
      ]
     },
     "execution_count": 15,
     "metadata": {},
     "output_type": "execute_result"
    }
   ],
   "source": [
    "melb_price_agg.head()"
   ]
  },
  {
   "cell_type": "code",
   "execution_count": null,
   "metadata": {},
   "outputs": [],
   "source": []
  }
 ],
 "metadata": {
  "kernelspec": {
   "display_name": "Python [Root]",
   "language": "python",
   "name": "Python [Root]"
  },
  "language_info": {
   "codemirror_mode": {
    "name": "ipython",
    "version": 2
   },
   "file_extension": ".py",
   "mimetype": "text/x-python",
   "name": "python",
   "nbconvert_exporter": "python",
   "pygments_lexer": "ipython2",
   "version": "2.7.12"
  }
 },
 "nbformat": 4,
 "nbformat_minor": 2
}
